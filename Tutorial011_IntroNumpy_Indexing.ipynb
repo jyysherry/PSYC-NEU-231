{
 "cells": [
  {
   "cell_type": "code",
   "execution_count": null,
   "metadata": {},
   "outputs": [],
   "source": []
  },
  {
   "cell_type": "raw",
   "metadata": {},
   "source": [
    "# Indexing and slicing and iterating in NumPy"
   ]
  },
  {
   "cell_type": "code",
   "execution_count": 5,
   "metadata": {},
   "outputs": [],
   "source": [
    "# import numpy\n",
    "import numpy as np"
   ]
  },
  {
   "cell_type": "code",
   "execution_count": null,
   "metadata": {},
   "outputs": [],
   "source": []
  },
  {
   "cell_type": "code",
   "execution_count": 2,
   "metadata": {},
   "outputs": [
    {
     "name": "stdout",
     "output_type": "stream",
     "text": [
      "[100. 100. 100.]\n",
      "[  0. 100.   4.   6.]\n",
      "[  9.   8.   7.   6.   5.   4. 100. 100. 100.   0.]\n",
      "0.0\n",
      "300.0\n",
      "300.0\n",
      "300.0\n",
      "12.0\n",
      "15.0\n",
      "18.0\n",
      "21.0\n",
      "24.0\n",
      "27.0\n"
     ]
    }
   ],
   "source": [
    "# create a 1d array\n",
    "x = np.linspace(0,9,10)\n",
    "\n",
    "x[1]                     # just the second entry, remember 0 based indexing\n",
    "\n",
    "# specific start and stop points (exclusive)\n",
    "x[0:2]                   # the first and second entries in the array, so N>=0 and N<2 (note the < upper bound - not inclusive)\n",
    "\n",
    "# assign the 2nd - 4th element to 100 (index 1,2,3)\n",
    "x[1:4] = 100               \n",
    "print(x[1:4])\n",
    "\n",
    "# start, stop, step interval\n",
    "print(x[0:8:2])\n",
    "\n",
    "# reverse x\n",
    "print(x[::-1])\n",
    "\n",
    "# iterate over all elements in x\n",
    "for i in x:\n",
    "    print(i*3)    # then i takes the value of each element in x"
   ]
  },
  {
   "cell_type": "markdown",
   "metadata": {},
   "source": [
    "## multidimentional array indexing, slicing etc"
   ]
  },
  {
   "cell_type": "code",
   "execution_count": 3,
   "metadata": {},
   "outputs": [
    {
     "name": "stdout",
     "output_type": "stream",
     "text": [
      "[[ 3.  7.  3.  2.  2.]\n",
      " [ 6. 10.  5.  7.  4.]\n",
      " [ 1.  3.  0.  7.  2.]\n",
      " [ 4.  2.  5.  8.  5.]\n",
      " [ 6.  8. 10.  7.  2.]\n",
      " [ 3.  6.  8.  6.  5.]\n",
      " [ 4. 10.  9.  2.  0.]\n",
      " [ 1.  8.  5.  7.  1.]\n",
      " [ 1.  9.  1.  1.  8.]\n",
      " [ 1.  7.  3.  2.  7.]]\n",
      "last row:  [1. 7. 3. 2. 7.]\n",
      "last column:  [2. 4. 2. 5. 2. 5. 0. 1. 8. 7.]\n",
      "last entry:  7.0\n",
      "[3. 7. 3. 2. 2.]\n",
      "[ 6. 10.  5.  7.  4.]\n",
      "[1. 3. 0. 7. 2.]\n",
      "[4. 2. 5. 8. 5.]\n",
      "[ 6.  8. 10.  7.  2.]\n",
      "[3. 6. 8. 6. 5.]\n",
      "[ 4. 10.  9.  2.  0.]\n",
      "[1. 8. 5. 7. 1.]\n",
      "[1. 9. 1. 1. 8.]\n",
      "[1. 7. 3. 2. 7.]\n",
      "3.0\n",
      "7.0\n",
      "3.0\n",
      "2.0\n",
      "2.0\n",
      "6.0\n",
      "10.0\n",
      "5.0\n",
      "7.0\n",
      "4.0\n",
      "1.0\n",
      "3.0\n",
      "0.0\n",
      "7.0\n",
      "2.0\n",
      "4.0\n",
      "2.0\n",
      "5.0\n",
      "8.0\n",
      "5.0\n",
      "6.0\n",
      "8.0\n",
      "10.0\n",
      "7.0\n",
      "2.0\n",
      "3.0\n",
      "6.0\n",
      "8.0\n",
      "6.0\n",
      "5.0\n",
      "4.0\n",
      "10.0\n",
      "9.0\n",
      "2.0\n",
      "0.0\n",
      "1.0\n",
      "8.0\n",
      "5.0\n",
      "7.0\n",
      "1.0\n",
      "1.0\n",
      "9.0\n",
      "1.0\n",
      "1.0\n",
      "8.0\n",
      "1.0\n",
      "7.0\n",
      "3.0\n",
      "2.0\n",
      "7.0\n"
     ]
    }
   ],
   "source": [
    "x = np.round(np.random.rand(10,5)*10)   # generate a matrix of uniformly distributed random numbers over 0:10\n",
    "print(x)\n",
    "\n",
    "x[0,0]     # first row, first column\n",
    "x[2,3]     # third row, 4th column\n",
    "\n",
    "x[:, 3]    # all entries in the 4th column \n",
    "x[3, :]    # all entries in the 4th row\n",
    "x[0:2, 4]  # first two entries of the 5th column\n",
    "x[6, 2:4]  # 7th row, 3rd and 4th entries. \n",
    "\n",
    "x[6]       # if not all dims specified then missing values are considered complete slices\n",
    "x[6,]      # these three ways of writing all do the same thing...\n",
    "x[6,:]\n",
    "\n",
    "# tricks...\n",
    "print('last row: ', x[-1,:])     # last row\n",
    "print('last column: ', x[:,-1])  # last column\n",
    "print('last entry: ', x[-1,-1])  # last value\n",
    "\n",
    "# iterating goes over the first dim (rows)\n",
    "for r in x:\n",
    "     print(r)\n",
    "        \n",
    "# can also iterate over all entries in the array using 'flat'\n",
    "# will proceed along 1st row, then to 2nd row, etc. across the rows\n",
    "for a in x.flat:\n",
    "    print(a)"
   ]
  },
  {
   "cell_type": "markdown",
   "metadata": {},
   "source": [
    "## pull out subset of rows and columns"
   ]
  },
  {
   "cell_type": "code",
   "execution_count": 6,
   "metadata": {},
   "outputs": [
    {
     "name": "stdout",
     "output_type": "stream",
     "text": [
      "[[0.04987503 0.96203202 0.87246869]\n",
      " [0.94888906 0.08278995 0.37821837]\n",
      " [0.53710968 0.21657187 0.92833328]\n",
      " [0.73308558 0.1982164  0.39520462]]\n",
      "\n",
      " [[0.04987503 0.96203202 0.87246869]\n",
      " [0.94888906 0.08278995 0.37821837]]\n",
      "\n",
      " [[0.53710968 0.21657187 0.92833328]\n",
      " [0.73308558 0.1982164  0.39520462]]\n",
      "\n",
      " [0.04987503 0.94888906]\n",
      "\n",
      " [[0.21657187 0.92833328]\n",
      " [0.1982164  0.39520462]]\n"
     ]
    }
   ],
   "source": [
    "# generate a matrix of random numbers over 0-1\n",
    "x = np.random.rand(4,3) \n",
    "print(x)\n",
    "\n",
    "# first two rows - note that you don't have to specify the 2nd dim - and note that \n",
    "# '2' here means rows 0 and 1 (not 0 through 2!) \":\" = keep on going\n",
    "y = x[:2] \n",
    "print('\\n', y)\n",
    "\n",
    "# can also take the last two rows...in the same manner...in this case rows 3 and 4\n",
    "y = x[2:] \n",
    "print('\\n', y)\n",
    "\n",
    "# first two rows, 1st column\n",
    "y = x[:2,0] \n",
    "print('\\n', y)\n",
    "\n",
    "# rows 3 - end, columns 2 - end\n",
    "y = x[2:,1:]\n",
    "print('\\n', y)"
   ]
  },
  {
   "cell_type": "code",
   "execution_count": null,
   "metadata": {},
   "outputs": [],
   "source": []
  },
  {
   "cell_type": "markdown",
   "metadata": {},
   "source": [
    "<div class=\"alert alert-info\">\n",
    "important - slicing an array creates a view of it! if you change the view, you also will change the original data!\n",
    "</div>"
   ]
  },
  {
   "cell_type": "code",
   "execution_count": 7,
   "metadata": {},
   "outputs": [
    {
     "name": "stdout",
     "output_type": "stream",
     "text": [
      "(4, 3)\n",
      "[[100. 100. 100.]\n",
      " [100. 100. 100.]\n",
      " [100. 100. 100.]\n",
      " [100. 100. 100.]]\n"
     ]
    }
   ],
   "source": [
    "z = x[:,]\n",
    "print(z.shape)\n",
    "# change all values in z using [:]\n",
    "z[:]=100     # so if you change data in z it will also change in x\n",
    "\n",
    "print(x)"
   ]
  },
  {
   "cell_type": "code",
   "execution_count": null,
   "metadata": {},
   "outputs": [],
   "source": []
  },
  {
   "cell_type": "markdown",
   "metadata": {},
   "source": [
    "## Fancy indexing...using arrays to index arrays - used all the time in data analysis..."
   ]
  },
  {
   "cell_type": "markdown",
   "metadata": {},
   "source": [
    "<div class=\"alert alert-info\">\n",
    "fancy indexing always makes a COPY of the data (unlike slicing which creates a view)!!!\n",
    "</div>"
   ]
  },
  {
   "cell_type": "code",
   "execution_count": 10,
   "metadata": {},
   "outputs": [
    {
     "name": "stdout",
     "output_type": "stream",
     "text": [
      "[[0.44870785 0.82877831 0.97137347 0.62337343]\n",
      " [0.41097055 0.63947809 0.63070452 0.3502278 ]\n",
      " [0.95046602 0.02381065 0.22683538 0.62103137]]\n",
      "\n",
      " x indexed at tuple y:  0.6210313689689914\n"
     ]
    }
   ],
   "source": [
    "# define an array\n",
    "x = np.random.rand(3,4)\n",
    "\n",
    "# index array - can be a tuple\n",
    "y = (2,3)\n",
    "\n",
    "# index\n",
    "print(x)\n",
    "print('\\n x indexed at tuple y: ', x[y])"
   ]
  },
  {
   "cell_type": "code",
   "execution_count": null,
   "metadata": {},
   "outputs": [],
   "source": []
  },
  {
   "cell_type": "code",
   "execution_count": 14,
   "metadata": {},
   "outputs": [
    {
     "name": "stdout",
     "output_type": "stream",
     "text": [
      "[[0.6547825  0.89001926 0.7174017  0.50216638]\n",
      " [0.9008124  0.50064607 0.98777879 0.75834632]\n",
      " [0.84218719 0.84806166 0.12696453 0.94835725]]\n"
     ]
    },
    {
     "data": {
      "text/plain": [
       "array([[0.89001926, 0.7174017 , 0.6547825 ],\n",
       "       [0.50064607, 0.98777879, 0.9008124 ],\n",
       "       [0.84806166, 0.12696453, 0.84218719]])"
      ]
     },
     "execution_count": 14,
     "metadata": {},
     "output_type": "execute_result"
    }
   ],
   "source": [
    "# can use fancy indexing to extract elements in a particular order\n",
    "print(x)\n",
    "\n",
    "# this will extract the 3rd row, then the 2nd row, then the first row\n",
    "x[[2,1,0]]\n",
    "\n",
    "# and this will extract all rows from the 2nd, 3rd and then 1st column. \n",
    "x[:,[1,2,0]]"
   ]
  },
  {
   "cell_type": "code",
   "execution_count": 11,
   "metadata": {},
   "outputs": [
    {
     "name": "stdout",
     "output_type": "stream",
     "text": [
      "[[0.6547825  0.89001926 0.7174017  0.50216638]\n",
      " [0.9008124  0.50064607 0.98777879 0.75834632]\n",
      " [0.84218719 0.84806166 0.12696453 0.94835725]]\n"
     ]
    },
    {
     "data": {
      "text/plain": [
       "array([0.50064607, 0.12696453])"
      ]
     },
     "execution_count": 11,
     "metadata": {},
     "output_type": "execute_result"
    }
   ],
   "source": [
    "# or can pass in multiple arrays...will return a 1D array \n",
    "# corresponding to each set of tuples (1,1) and (2,2) in this case\n",
    "print(x)\n",
    "x[[1,2],[1,2]]"
   ]
  },
  {
   "cell_type": "markdown",
   "metadata": {},
   "source": [
    "<div class=\"alert alert-info\">\n",
    "As opposed to selecting a set of tuples, you can also select a block of indices from a matrix. \n",
    "</div>"
   ]
  },
  {
   "cell_type": "code",
   "execution_count": 13,
   "metadata": {},
   "outputs": [
    {
     "name": "stdout",
     "output_type": "stream",
     "text": [
      "[[0.6547825  0.89001926 0.7174017  0.50216638]\n",
      " [0.9008124  0.50064607 0.98777879 0.75834632]\n",
      " [0.84218719 0.84806166 0.12696453 0.94835725]] \n",
      "\n",
      "[[0.98777879 0.75834632]\n",
      " [0.12696453 0.94835725]]\n"
     ]
    }
   ],
   "source": [
    "# grab the lower right chunk of data. \n",
    "print(x, '\\n')\n",
    "print(x[[1,2]][:,[2,3]])  # 2nd term here extracts all rows from columns, first arg says restrict to last two rows. "
   ]
  }
 ],
 "metadata": {
  "kernelspec": {
   "display_name": "Python 3",
   "language": "python",
   "name": "python3"
  },
  "language_info": {
   "codemirror_mode": {
    "name": "ipython",
    "version": 3
   },
   "file_extension": ".py",
   "mimetype": "text/x-python",
   "name": "python",
   "nbconvert_exporter": "python",
   "pygments_lexer": "ipython3",
   "version": "3.7.0"
  }
 },
 "nbformat": 4,
 "nbformat_minor": 2
}
