{
 "cells": [
  {
   "cell_type": "code",
   "execution_count": null,
   "metadata": {},
   "outputs": [],
   "source": []
  },
  {
   "cell_type": "markdown",
   "metadata": {},
   "source": [
    "# Brief intro to jupyter notebooks\n",
    "-  [for more general background see this overview of jupyter](https://www.datacamp.com/community/tutorials/tutorial-jupyter-notebook)\n",
    "- [markdown basics for nice formatting](https://jupyter-notebook.readthedocs.io/en/stable/examples/Notebook/Working%20With%20Markdown%20Cells.html)\n",
    "- [another good markdown cheatsheet](https://medium.com/ibm-data-science-experience/markdown-for-jupyter-notebooks-cheatsheet-386c05aeebed)\n",
    "-  [yet another good markdown cheat sheet](https://github.com/adam-p/markdown-here/wiki/Markdown-Cheatsheet)\n",
    "- [making colorful markdown cells](https://about.gitlab.com/handbook/product/technical-writing/markdown-guide/#colorful-sections)\n",
    "-  [info on line and cell magics](http://nbviewer.jupyter.org/github/ipython/ipython/blob/master/examples/IPython%20Kernel/Cell%20Magics.ipynb)\n",
    "- [another good overview of iPython magics](https://ipython.readthedocs.io/en/stable/interactive/magics.html)\n",
    "- [matplotlib info (basic setup stuff)](http://nbviewer.jupyter.org/github/ipython/ipython/blob/master/examples/IPython%20Kernel/Plotting%20in%20the%20Notebook.ipynb)\n",
    "- [more advanced notes on making clean looking notebooks, esp for sharing with non-technical audience](http://nbviewer.jupyter.org/github/csaid/polished_notebooks/blob/master/notebook_polished.ipynb)"
   ]
  },
  {
   "cell_type": "markdown",
   "metadata": {},
   "source": [
    "<div class=\"alert alert-info\"> \n",
    "Jupyter notebooks are a way of distributing code and showing the results of analyses inline. Promotes easy sharing of code, easy to reproduce results from other researchers. But most importantly, in my view, is that these serve as an interactive lab notebook - you can keep your notes and the code to implement your ideas all in one place\n",
    "</div>\n",
    "\n",
    "### The notebook runs a kernel that allows you to execute code (python (iPython) for us, but also Julia, R, and other languages possible...even possible to mix and match languages).\n",
    "\n",
    "### Can also incorporate (i.e. call/excute) python scripts written in a more traditional IDE. This is handy if you have a frequently re-used function or if you have a large chunk of code that you want to put somewhere else to improve readability of the notebook. We'll play a bit with Spyder later in the course to see how this works, but there are many good IDEs out there. "
   ]
  },
  {
   "cell_type": "markdown",
   "metadata": {},
   "source": [
    "<div class=\"alert alert-info\">\n",
    "Keyboard shortcuts can save a lot of time. To check them out and to get a drop down list of options, use cmd shift p on a mac and cntrl shift p on linux or a PC\n",
    "</div>"
   ]
  },
  {
   "cell_type": "markdown",
   "metadata": {},
   "source": [
    "some basics: \n",
    "esc enters 'command mode'\n",
    "\n",
    "esc + b - insert new cell below \n",
    "\n",
    "others...\n",
    "\n",
    "[see this page for some handy tips/shortcuts](https://www.dataquest.io/blog/jupyter-notebook-tips-tricks-shortcuts/)"
   ]
  },
  {
   "cell_type": "markdown",
   "metadata": {},
   "source": [
    "### some notes on markdown colors"
   ]
  },
  {
   "cell_type": "markdown",
   "metadata": {},
   "source": [
    "<div class=\"alert alert-info\">\n",
    "if you see this color in a markdown header, then its friendly information :)\n",
    "</div>"
   ]
  },
  {
   "cell_type": "markdown",
   "metadata": {},
   "source": [
    "<div class=\"alert alert-success\">\n",
    "if you see this color in a markdown header, then it means something good happened! success!\n",
    "</div>"
   ]
  },
  {
   "cell_type": "markdown",
   "metadata": {},
   "source": [
    "<div class=\"alert alert-warning\">\n",
    "if you see this color in a markdown header, then pay attention! its a warning!\n",
    "</div>"
   ]
  },
  {
   "cell_type": "markdown",
   "metadata": {},
   "source": [
    "<div class=\"alert alert-danger\">\n",
    "if you see this color in a markdown header, then run screaming from the room...something dangerous is happening!\n",
    "</div>"
   ]
  },
  {
   "cell_type": "markdown",
   "metadata": {},
   "source": [
    "### this is a markdown cell - used to write notes/comments about code. Use markdown to make it fancy (see links above)!"
   ]
  },
  {
   "cell_type": "code",
   "execution_count": 5,
   "metadata": {},
   "outputs": [
    {
     "name": "stdout",
     "output_type": "stream",
     "text": [
      "[0, 1, 2, 3, 4, 5, 6, 7, 8, 9, 10]\n"
     ]
    }
   ],
   "source": [
    "#this is a code cell...suprisingly, we write code here \n",
    "\n",
    "a_simple_list = [0,1,2,3,4,5,6,7,8,9,10]\n",
    "\n",
    "print(a_simple_list)"
   ]
  },
  {
   "cell_type": "markdown",
   "metadata": {},
   "source": [
    "### magic commands - iPython supports a set of commands that are handy to use (including some matlab-like functions)...for now just introducing 'line' magic commands, but will talk a bit about 'cell' magic commands later. "
   ]
  },
  {
   "cell_type": "code",
   "execution_count": 7,
   "metadata": {},
   "outputs": [
    {
     "name": "stdout",
     "output_type": "stream",
     "text": [
      "98.3 ns ± 6.4 ns per loop (mean ± std. dev. of 7 runs, 10000000 loops each)\n"
     ]
    }
   ],
   "source": [
    "# on of my favorites for estimating the duration of operations - good for identifying slow parts and making code\n",
    "# more effecient. \n",
    "\n",
    "%timeit a_simple_list = [0,1,2,3,4,5,6,7,8,9,10]\n",
    "\n",
    "# execute code in a separate python script - can save space in a code-heavy notebook\n",
    "# %run"
   ]
  },
  {
   "cell_type": "code",
   "execution_count": 8,
   "metadata": {},
   "outputs": [
    {
     "data": {
      "application/json": {
       "cell": {
        "!": "OSMagics",
        "HTML": "Other",
        "SVG": "Other",
        "bash": "Other",
        "capture": "ExecutionMagics",
        "debug": "ExecutionMagics",
        "file": "Other",
        "html": "DisplayMagics",
        "javascript": "DisplayMagics",
        "js": "DisplayMagics",
        "latex": "DisplayMagics",
        "markdown": "DisplayMagics",
        "perl": "Other",
        "prun": "ExecutionMagics",
        "pypy": "Other",
        "python": "Other",
        "python2": "Other",
        "python3": "Other",
        "ruby": "Other",
        "script": "ScriptMagics",
        "sh": "Other",
        "svg": "DisplayMagics",
        "sx": "OSMagics",
        "system": "OSMagics",
        "time": "ExecutionMagics",
        "timeit": "ExecutionMagics",
        "writefile": "OSMagics"
       },
       "line": {
        "alias": "OSMagics",
        "alias_magic": "BasicMagics",
        "autocall": "AutoMagics",
        "automagic": "AutoMagics",
        "autosave": "KernelMagics",
        "bookmark": "OSMagics",
        "cat": "Other",
        "cd": "OSMagics",
        "clear": "KernelMagics",
        "colors": "BasicMagics",
        "config": "ConfigMagics",
        "connect_info": "KernelMagics",
        "cp": "Other",
        "debug": "ExecutionMagics",
        "dhist": "OSMagics",
        "dirs": "OSMagics",
        "doctest_mode": "BasicMagics",
        "ed": "Other",
        "edit": "KernelMagics",
        "env": "OSMagics",
        "gui": "BasicMagics",
        "hist": "Other",
        "history": "HistoryMagics",
        "killbgscripts": "ScriptMagics",
        "ldir": "Other",
        "less": "KernelMagics",
        "lf": "Other",
        "lk": "Other",
        "ll": "Other",
        "load": "CodeMagics",
        "load_ext": "ExtensionMagics",
        "loadpy": "CodeMagics",
        "logoff": "LoggingMagics",
        "logon": "LoggingMagics",
        "logstart": "LoggingMagics",
        "logstate": "LoggingMagics",
        "logstop": "LoggingMagics",
        "ls": "Other",
        "lsmagic": "BasicMagics",
        "lx": "Other",
        "macro": "ExecutionMagics",
        "magic": "BasicMagics",
        "man": "KernelMagics",
        "matplotlib": "PylabMagics",
        "mkdir": "Other",
        "more": "KernelMagics",
        "mv": "Other",
        "notebook": "BasicMagics",
        "page": "BasicMagics",
        "pastebin": "CodeMagics",
        "pdb": "ExecutionMagics",
        "pdef": "NamespaceMagics",
        "pdoc": "NamespaceMagics",
        "pfile": "NamespaceMagics",
        "pinfo": "NamespaceMagics",
        "pinfo2": "NamespaceMagics",
        "pip": "BasicMagics",
        "popd": "OSMagics",
        "pprint": "BasicMagics",
        "precision": "BasicMagics",
        "profile": "BasicMagics",
        "prun": "ExecutionMagics",
        "psearch": "NamespaceMagics",
        "psource": "NamespaceMagics",
        "pushd": "OSMagics",
        "pwd": "OSMagics",
        "pycat": "OSMagics",
        "pylab": "PylabMagics",
        "qtconsole": "KernelMagics",
        "quickref": "BasicMagics",
        "recall": "HistoryMagics",
        "rehashx": "OSMagics",
        "reload_ext": "ExtensionMagics",
        "rep": "Other",
        "rerun": "HistoryMagics",
        "reset": "NamespaceMagics",
        "reset_selective": "NamespaceMagics",
        "rm": "Other",
        "rmdir": "Other",
        "run": "ExecutionMagics",
        "save": "CodeMagics",
        "sc": "OSMagics",
        "set_env": "OSMagics",
        "store": "StoreMagics",
        "sx": "OSMagics",
        "system": "OSMagics",
        "tb": "ExecutionMagics",
        "time": "ExecutionMagics",
        "timeit": "ExecutionMagics",
        "unalias": "OSMagics",
        "unload_ext": "ExtensionMagics",
        "who": "NamespaceMagics",
        "who_ls": "NamespaceMagics",
        "whos": "NamespaceMagics",
        "xdel": "NamespaceMagics",
        "xmode": "BasicMagics"
       }
      },
      "text/plain": [
       "Available line magics:\n",
       "%alias  %alias_magic  %autocall  %automagic  %autosave  %bookmark  %cat  %cd  %clear  %colors  %config  %connect_info  %cp  %debug  %dhist  %dirs  %doctest_mode  %ed  %edit  %env  %gui  %hist  %history  %killbgscripts  %ldir  %less  %lf  %lk  %ll  %load  %load_ext  %loadpy  %logoff  %logon  %logstart  %logstate  %logstop  %ls  %lsmagic  %lx  %macro  %magic  %man  %matplotlib  %mkdir  %more  %mv  %notebook  %page  %pastebin  %pdb  %pdef  %pdoc  %pfile  %pinfo  %pinfo2  %popd  %pprint  %precision  %profile  %prun  %psearch  %psource  %pushd  %pwd  %pycat  %pylab  %qtconsole  %quickref  %recall  %rehashx  %reload_ext  %rep  %rerun  %reset  %reset_selective  %rm  %rmdir  %run  %save  %sc  %set_env  %store  %sx  %system  %tb  %time  %timeit  %unalias  %unload_ext  %who  %who_ls  %whos  %xdel  %xmode\n",
       "\n",
       "Available cell magics:\n",
       "%%!  %%HTML  %%SVG  %%bash  %%capture  %%debug  %%file  %%html  %%javascript  %%js  %%latex  %%markdown  %%perl  %%prun  %%pypy  %%python  %%python2  %%python3  %%ruby  %%script  %%sh  %%svg  %%sx  %%system  %%time  %%timeit  %%writefile\n",
       "\n",
       "Automagic is ON, % prefix IS NOT needed for line magics."
      ]
     },
     "execution_count": 8,
     "metadata": {},
     "output_type": "execute_result"
    }
   ],
   "source": [
    "# list out all available line magic commands\n",
    "%lsmagic"
   ]
  },
  {
   "cell_type": "code",
   "execution_count": 11,
   "metadata": {},
   "outputs": [
    {
     "name": "stdout",
     "output_type": "stream",
     "text": [
      "a_simple_list\t another_simple_list\t \n",
      "x\t \n"
     ]
    }
   ],
   "source": [
    "#  matlab-like who function\n",
    "a_simple_list = [0,1,2,3,4,5,6,7,8,9,10]\n",
    "another_simple_list = [0,1,2,3,4,5,6,7,8,9,10]\n",
    "x = 10  # not a list, but an integer\n",
    "%who list \n",
    "%who int"
   ]
  },
  {
   "cell_type": "code",
   "execution_count": null,
   "metadata": {},
   "outputs": [],
   "source": [
    "# can run functions inline - often nice if you have lots of code in your notebook - can copy some out to a IDE\n",
    "# and make a .py function. More on this later too when we'll discuss .py standalone files. \n",
    "%run"
   ]
  },
  {
   "cell_type": "markdown",
   "metadata": {},
   "source": [
    "### importing libraries and functions - rule is generally to import a module and give it a shorter name to access functions...makes it easier to type. "
   ]
  },
  {
   "cell_type": "code",
   "execution_count": 4,
   "metadata": {},
   "outputs": [],
   "source": [
    "import numpy as np"
   ]
  },
  {
   "cell_type": "code",
   "execution_count": 3,
   "metadata": {},
   "outputs": [
    {
     "data": {
      "text/plain": [
       "array([0.42716845, 0.59868405, 0.02663837, 0.84551553, 0.39489669,\n",
       "       0.29991019, 0.44678887, 0.13873325, 0.1434968 , 0.91251024,\n",
       "       0.0502982 , 0.80369914, 0.73863858, 0.80017772, 0.75050253,\n",
       "       0.60558488, 0.18018741, 0.49555455, 0.73831058, 0.31711197,\n",
       "       0.27617132, 0.09385591, 0.10272282, 0.65641511, 0.45513859,\n",
       "       0.07176581, 0.78358185, 0.77697418, 0.3184813 , 0.09945645,\n",
       "       0.62683914, 0.23119324, 0.33960798, 0.49478066, 0.10907045,\n",
       "       0.81543114, 0.29080743, 0.69116585, 0.38779855, 0.74328708,\n",
       "       0.93786763, 0.75263137, 0.25793562, 0.20160262, 0.8254308 ,\n",
       "       0.98893036, 0.83080285, 0.73474769, 0.3033146 , 0.76214157,\n",
       "       0.1000764 , 0.37421968, 0.16360681, 0.59474649, 0.28392212,\n",
       "       0.88964625, 0.75526362, 0.18631951, 0.49389309, 0.29831208,\n",
       "       0.51193667, 0.90843153, 0.0322276 , 0.61481093, 0.53650776,\n",
       "       0.52634831, 0.63915974, 0.07572583, 0.60183277, 0.50895145,\n",
       "       0.8209635 , 0.55640221, 0.21135355, 0.27582795, 0.49074689,\n",
       "       0.9412044 , 0.40296363, 0.81951336, 0.64937261, 0.90077903,\n",
       "       0.9804432 , 0.28382056, 0.80574834, 0.00705196, 0.72999046,\n",
       "       0.51855675, 0.43732856, 0.91566125, 0.10834087, 0.6723873 ,\n",
       "       0.06049767, 0.4979471 , 0.96819864, 0.12288022, 0.53505022,\n",
       "       0.78819856, 0.15042405, 0.18744247, 0.96397969, 0.38700077])"
      ]
     },
     "execution_count": 3,
     "metadata": {},
     "output_type": "execute_result"
    }
   ],
   "source": [
    "np.random.rand(100)"
   ]
  },
  {
   "cell_type": "markdown",
   "metadata": {},
   "source": [
    "### Sometimes if you're only using 1 or 2 functions then you can import JUST that function to make it easier...then you don't have to use the np.XXX notation...note the different terminology \"from module import function\" "
   ]
  },
  {
   "cell_type": "code",
   "execution_count": null,
   "metadata": {},
   "outputs": [],
   "source": [
    "from numpy import arange\n",
    "x = arange(10)\n",
    "print(x)"
   ]
  },
  {
   "cell_type": "markdown",
   "metadata": {},
   "source": [
    "### can even import ALL functions from a module like this:"
   ]
  },
  {
   "cell_type": "code",
   "execution_count": 15,
   "metadata": {},
   "outputs": [
    {
     "name": "stdout",
     "output_type": "stream",
     "text": [
      "x is:  [0 1 2 3 4 5 6 7 8 9] \n",
      "y is:  [1 2 3 4]\n"
     ]
    }
   ],
   "source": [
    "from numpy import *\n",
    "x = arange(10)\n",
    "y = array([1, 2, 3, 4])\n",
    "\n",
    "print('x is: ', x, '\\ny is: ', y)"
   ]
  },
  {
   "cell_type": "markdown",
   "metadata": {},
   "source": [
    "### but be super careful! \n"
   ]
  },
  {
   "cell_type": "markdown",
   "metadata": {},
   "source": [
    "<div class=\"alert alert-warning\">\n",
    "Importing all functions from a module can lead to conflicting functions in the namespace. For example there is a core python 'array' function that operates differently than the numpy 'array' (mostly in terms of functionality). This can lead to lots of confusion when reading code and might lead to unintended consequences. Best practice is usually to use the 'import numpy as np' unless you really just need 1-2 functions and your code is encapsulated from other stuff that might lead to conflicts. You should probably just avoid the \"from xx import *\". \n",
    "</div>"
   ]
  }
 ],
 "metadata": {
  "kernelspec": {
   "display_name": "Python 3",
   "language": "python",
   "name": "python3"
  },
  "language_info": {
   "codemirror_mode": {
    "name": "ipython",
    "version": 3
   },
   "file_extension": ".py",
   "mimetype": "text/x-python",
   "name": "python",
   "nbconvert_exporter": "python",
   "pygments_lexer": "ipython3",
   "version": "3.7.0"
  }
 },
 "nbformat": 4,
 "nbformat_minor": 2
}
