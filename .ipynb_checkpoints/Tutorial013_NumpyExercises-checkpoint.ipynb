{
 "cells": [
  {
   "cell_type": "markdown",
   "metadata": {},
   "source": [
    "## EXERCISES\n",
    "\n",
    "### Vector Multiplication\n",
    "1. Produce 2 vectors, one with integers in the range [5,10] and the other [15,20] using the np.arange function\n",
    "1. Without using any functions from the numpy module\n",
    "    1. Compute the outer product of those vectors \n",
    "    1. Compute the \"trace\" of the resulting matrix\n",
    "    \n",
    "    ![trace](https://wikimedia.org/api/rest_v1/media/math/render/svg/3e5b6e82272fc5eeca6d510388e0a2bd0a6c6463)\n",
    "    \n",
    "    \n",
    "Complete the same items using numpy operations"
   ]
  },
  {
   "cell_type": "code",
   "execution_count": 3,
   "metadata": {},
   "outputs": [
    {
     "name": "stdout",
     "output_type": "stream",
     "text": [
      "Outer Product: [[75, 80, 85, 90, 95, 100], [90, 96, 102, 108, 114, 120], [105, 112, 119, 126, 133, 140], [120, 128, 136, 144, 152, 160], [135, 144, 153, 162, 171, 180], [150, 160, 170, 180, 190, 200]]\n"
     ]
    }
   ],
   "source": [
    "import numpy as np\n",
    "\n",
    "x1 = np.arange(5,11)\n",
    "x2 = np.arange(15,21)\n",
    "\n",
    "# outer product\n",
    "p_out = [] \n",
    "\n",
    "assert (len(x1)==len(x2)), 'Lists must be the same length!'\n",
    "\n",
    "for i in range(len(x1)): \n",
    "    row = [] \n",
    "    for j in range(len(x2)):\n",
    "        row.append(x1[i]*x2[j])\n",
    "        \n",
    "    p_out.append(row)\n",
    "\n",
    "#print outer product\n",
    "print('Outer Product:',p_out) "
   ]
  },
  {
   "cell_type": "code",
   "execution_count": 12,
   "metadata": {},
   "outputs": [
    {
     "name": "stdout",
     "output_type": "stream",
     "text": [
      "The trace is: [805.]\n",
      "Outer Product: [[ 75  80  85  90  95 100]\n",
      " [ 90  96 102 108 114 120]\n",
      " [105 112 119 126 133 140]\n",
      " [120 128 136 144 152 160]\n",
      " [135 144 153 162 171 180]\n",
      " [150 160 170 180 190 200]]\n",
      "The trace is: 805\n"
     ]
    }
   ],
   "source": [
    "#Trace \n",
    "trace = np.zeros(1)\n",
    "\n",
    "for i in range(len(x1)):\n",
    "    trace = trace + p_out[i][i]\n",
    "\n",
    "print('The trace is:', trace)\n",
    "\n",
    "#numpy\n",
    "n_out = np.outer(x1,x2)\n",
    "print('Outer Product:', n_out)\n",
    "\n",
    "n_trace = np.trace(n_out)\n",
    "print('The trace is:', n_trace)"
   ]
  },
  {
   "cell_type": "markdown",
   "metadata": {},
   "source": [
    "### Matrix Multiplication\n",
    "* Two matricies can be multiplied if their inner dimensions match (eg. 2x3 * 3x5 -> 2x5). The best rule for working with and mutliplying matricies is to remember (rows x columns). This applies to both the dimensions of a matrix (a 2x3 matrix has 2 rows and 3 columns) as well as multiplication (you multiply the rows of the first matrix by the columns of the second). \n",
    "\n",
    "* When multiplying two matricies of dimension (M x N)*(N x P) the resulting matrix is (M x P). The upper element of the reslting matrix is the inner (or dot) product of the first row of the first matrix and the first column of the second matrix\n",
    "\n",
    "![two matrices](https://wikimedia.org/api/rest_v1/media/math/render/svg/16b1644351bc2041175b19cbc65da03ef78130c7)\n",
    "\n",
    "![store product in matrix C](https://wikimedia.org/api/rest_v1/media/math/render/svg/00ac0c831c365b7424cc43239aae8cebea27c56c)\n",
    "\n",
    "![matrix multiply](https://wikimedia.org/api/rest_v1/media/math/render/svg/3cfeccef1c8c7e6da0ddf08daed8dbf3c6f50c5e)\n",
    "\n",
    "for i = 1, ..., n and j = 1, ..., p.\n",
    "\n",
    "1. Make two matrices of random numbers (A and B). A should be a 4x3 matrix and B should be a 3x4 matrix. Multiply A by B using (to a resulting matrix C) using:\n",
    "    1. a conventional for-loop\n",
    "    1. list comprehension\n",
    "    1. numpy operator\n",
    "    \n",
    "2. After you have C, pull out the upper quadrant using fancy indexing, and then replace the main diagonal (upper left to lower right) with 0s. "
   ]
  },
  {
   "cell_type": "code",
   "execution_count": 24,
   "metadata": {
    "scrolled": false
   },
   "outputs": [
    {
     "name": "stdout",
     "output_type": "stream",
     "text": [
      "[[0.73809987 0.23464271 0.80796134 0.45313709]\n",
      " [0.59955339 0.19460578 0.68960816 0.36911045]\n",
      " [0.21894584 0.22103265 0.20057479 0.37710513]\n",
      " [0.75442554 0.15373149 0.80115104 0.33253449]]\n"
     ]
    }
   ],
   "source": [
    "#Make two matrices of random numbers\n",
    "\n",
    "A = np.random.random((4, 3))\n",
    "B = np.random.random((3, 4))\n",
    "\n",
    "\n",
    "print(A)\n",
    "print(B)\n",
    "\n",
    "#Make a for loop\n",
    "C = []\n",
    "\n",
    "for i in range(A.shape[0]):\n",
    "    row = []\n",
    "    for j in range(B.shape[1]):\n",
    "        row.append(sum(A[i,:]*B[:,j]))\n",
    "    \n",
    "    C.append(row)\n",
    "    \n",
    "C = np.asmatrix(C)\n",
    "print(C)\n",
    "\n"
   ]
  },
  {
   "cell_type": "code",
   "execution_count": 25,
   "metadata": {
    "scrolled": true
   },
   "outputs": [
    {
     "name": "stdout",
     "output_type": "stream",
     "text": [
      "[[0.73809987 0.23464271 0.80796134 0.45313709]\n",
      " [0.59955339 0.19460578 0.68960816 0.36911045]\n",
      " [0.21894584 0.22103265 0.20057479 0.37710513]\n",
      " [0.75442554 0.15373149 0.80115104 0.33253449]]\n"
     ]
    }
   ],
   "source": [
    "C = A.dot(B)\n",
    "print(C)"
   ]
  },
  {
   "cell_type": "code",
   "execution_count": 34,
   "metadata": {},
   "outputs": [
    {
     "data": {
      "text/plain": [
       "[[0.738099866814304,\n",
       "  0.23464270849584723,\n",
       "  0.8079613396191465,\n",
       "  0.45313708571324457],\n",
       " [0.5995533910094223,\n",
       "  0.19460578381873292,\n",
       "  0.6896081632652964,\n",
       "  0.36911045453128116],\n",
       " [0.21894583751637456,\n",
       "  0.22103265030654962,\n",
       "  0.2005747906838815,\n",
       "  0.3771051300815928],\n",
       " [0.7544255384402573,\n",
       "  0.15373148705249218,\n",
       "  0.8011510357358734,\n",
       "  0.33253449248847866]]"
      ]
     },
     "execution_count": 34,
     "metadata": {},
     "output_type": "execute_result"
    }
   ],
   "source": [
    "C = [[sum(A[i,:]*B[:,j]) for j in range(B.shape[1])] for i in range(A.shape[0])]\n",
    "C"
   ]
  },
  {
   "cell_type": "code",
   "execution_count": 31,
   "metadata": {},
   "outputs": [
    {
     "name": "stdout",
     "output_type": "stream",
     "text": [
      "[[0.73809987 0.23464271 0.80796134 0.45313709]\n",
      " [0.59955339 0.19460578 0.68960816 0.36911045]\n",
      " [0.21894584 0.22103265 0.20057479 0.37710513]\n",
      " [0.75442554 0.15373149 0.80115104 0.33253449]]\n"
     ]
    }
   ],
   "source": [
    "#numpy\n",
    "c = np.dot(A,B)\n",
    "print(c)"
   ]
  },
  {
   "cell_type": "code",
   "execution_count": 32,
   "metadata": {},
   "outputs": [
    {
     "name": "stdout",
     "output_type": "stream",
     "text": [
      "[[0.73809987 0.23464271]\n",
      " [0.59955339 0.19460578]]\n"
     ]
    }
   ],
   "source": [
    "#fancy indenx\n",
    "row = np.array([0, 1]) \n",
    "col = np.array([0, 1])\n",
    "\n",
    "print(c[row[:, np.newaxis], col])"
   ]
  }
 ],
 "metadata": {
  "kernelspec": {
   "display_name": "Python 3",
   "language": "python",
   "name": "python3"
  },
  "language_info": {
   "codemirror_mode": {
    "name": "ipython",
    "version": 3
   },
   "file_extension": ".py",
   "mimetype": "text/x-python",
   "name": "python",
   "nbconvert_exporter": "python",
   "pygments_lexer": "ipython3",
   "version": "3.7.0"
  }
 },
 "nbformat": 4,
 "nbformat_minor": 2
}
